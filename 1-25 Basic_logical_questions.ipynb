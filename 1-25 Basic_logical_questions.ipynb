{
 "cells": [
  {
   "cell_type": "markdown",
   "metadata": {},
   "source": [
    "## Basic questions for python pf practice\n"
   ]
  },
  {
   "cell_type": "markdown",
   "metadata": {},
   "source": [
    "#### 1. Check if a number is prime\n",
    "  A prime number is a number greater than 1 that is only divisible by 1 and itself.\n",
    "\n",
    "  Note:If the input number is 1, the function will also return False because 1 is not a prime number (by definition, a prime number must have exactly two distinct positive divisors: 1 and itself)."
   ]
  },
  {
   "cell_type": "code",
   "execution_count": 1,
   "metadata": {},
   "outputs": [
    {
     "name": "stdout",
     "output_type": "stream",
     "text": [
      "8 is not prime\n"
     ]
    }
   ],
   "source": [
    "def is_prime(n): # function to check if a number is prime or not\n",
    "    if n<2:  # if number is less than zero or zero or 1 then it is not prime\n",
    "        return False \n",
    "            \n",
    "    for i in range(2,int(n**0.5)+1): # range function excludes last element in range so I added here 1 to n**0.5+1, and n**0.5 is taking square root of n , ** double asteric is used to take power of a number\n",
    "            return False # here we checked till square root because every composite number has atleast one divisor till and one atleast one divisor after square root of n\n",
    "    return True\n",
    "\n",
    "# if divisible to any number till square root of n then it is not prime else it is prime\n",
    "\n",
    "\n",
    "number = input(\"Enter a number: \")\n",
    "if is_prime(int(number)):\n",
    "    print(f\"{number} is a prime number.\")  \n",
    "else :\n",
    "    print(f\"{number} is not prime\") \n"
   ]
  },
  {
   "cell_type": "markdown",
   "metadata": {},
   "source": [
    "#### 2. Find the N-th Fibonacci number using iteration.\n",
    "\n",
    "\n",
    "The function calculates the N-th Fibonacci number using iteration.  \n",
    "1. It starts with `a = 0` (first Fibonacci number) and `b = 1` (second Fibonacci number).  \n",
    "2. It loops `n-1` times, updating `a` and `b` so that `a` holds the current Fibonacci number.  \n",
    "3. The loop works by shifting values: `a` takes `b`, and `b` takes `a + b`, gradually building the sequence.  \n",
    "4. After the loop, `a` contains the N-th Fibonacci number. \n"
   ]
  },
  {
   "cell_type": "code",
   "execution_count": null,
   "metadata": {},
   "outputs": [
    {
     "name": "stdout",
     "output_type": "stream",
     "text": [
      "8\n"
     ]
    }
   ],
   "source": [
    "def fibonacci(n):\n",
    "    if n ==0: # base case for 0 \n",
    "        return 0\n",
    "    if n == 1:# base case for 1\n",
    "        return 1\n",
    "    \n",
    "    a = 0  # values of a and b are 0 and 1 because fibonacci series starts from 0 and 1\n",
    "    b = 1\n",
    "\n",
    "    for i in range (n-1): # here we used n-1 iteration because we already have 0 and 1 in a and b and we could also use range(1,n) so last iteration will be automatically n-1\n",
    "     temp = a\n",
    "     a = b\n",
    "     b = b + temp\n",
    "\n",
    "    return a    \n",
    "\n",
    "print (fibonacci(7))"
   ]
  },
  {
   "cell_type": "markdown",
   "metadata": {},
   "source": [
    "#### 3.\tFind the sum of digits of a given number.\n",
    "\n",
    " In this function we will take out last digit out by modulo 10 and add it to the sum. Then we will divide the number by 10 to remove the last digit. We will repeat this process until the number becomes 0. "
   ]
  },
  {
   "cell_type": "code",
   "execution_count": 14,
   "metadata": {},
   "outputs": [
    {
     "name": "stdout",
     "output_type": "stream",
     "text": [
      "10\n"
     ]
    }
   ],
   "source": [
    "def sum_of_digits(n):\n",
    "    sum =0\n",
    "    while n>0:\n",
    "        sum = sum + n%10 # here we are taking last digit of number and adding it to sum\n",
    "        n = n// 10 # here we are removing last digit from number and used // to get integer division\n",
    "    return sum    \n",
    "\n",
    "print(sum_of_digits(1234))"
   ]
  },
  {
   "cell_type": "markdown",
   "metadata": {},
   "source": [
    "#### 4.\tFind the greatest common divisor (GCD) of two numbers.\n",
    "\n",
    "In this function we will find the GCD of two numbers. GCD is the largest number that divides both numbers. In this function we will use two approaches to find the GCD. In our first approach we will simply divide till minimum of these two numbers and get highest number on which both numbers are divisible, that would be our GCD. \n",
    "\n",
    "- In our first approach we will simply divide till minimum of these two numbers and get highest number on which both numbers are divisible, that would be our GCD.\n",
    "\n",
    "- In our second approach we will use the Euclidean algorithm to find the GCD of two numbers. The algorithm states that the GCD of two numbers is the same as the GCD of the smaller number and the remainder of the larger number divided by the smaller number. We will repeat this process until the remainder becomes 0. The GCD is the last non-zero remainder. "
   ]
  },
  {
   "cell_type": "code",
   "execution_count": 15,
   "metadata": {},
   "outputs": [
    {
     "name": "stdout",
     "output_type": "stream",
     "text": [
      "5\n"
     ]
    }
   ],
   "source": [
    "##1 method\n",
    "def gcd(a,b):\n",
    "    if a>b: # here we are checking which number is minimum to run loop till that number\n",
    "        min = b \n",
    "    else:    \n",
    "        min = a\n",
    "    if min==0:  # if min is 0 then return max handling edge case\n",
    "        return max\n",
    "    for i in range (1,min +1):\n",
    "        if a%i ==0 and b%i ==0:\n",
    "            gcd = i   \n",
    "\n",
    "    return gcd\n",
    "    \n",
    "print(gcd(20,15))  "
   ]
  },
  {
   "cell_type": "code",
   "execution_count": 16,
   "metadata": {},
   "outputs": [
    {
     "name": "stdout",
     "output_type": "stream",
     "text": [
      "5\n"
     ]
    }
   ],
   "source": [
    "# 2 approach (by Euclidean algorithm)\n",
    "\n",
    "def gcd(a,b):\n",
    "    while b!= 0:\n",
    "        remainder = a%b # here we are taking remainder of a and b\n",
    "        a =b  # here we are assigning b to a and b to remainder (swaping)\n",
    "        b = remainder\n",
    "\n",
    "    return a\n",
    "\n",
    "\n",
    "\n",
    "print(gcd(20,15))"
   ]
  },
  {
   "cell_type": "markdown",
   "metadata": {},
   "source": [
    "#### 5.\tFind the least common multiple (LCM) of two numbers.\n",
    "\n",
    "It also has two methods to find the LCM of two numbers.\n",
    "- first by its relation with gcd as gcd and lcm are related by the formula lcm(a,b) = a*b/gcd(a,b)\n",
    "- secondly by dividing on multiples of higher number till we find a number which is divisible by both numbers."
   ]
  },
  {
   "cell_type": "code",
   "execution_count": null,
   "metadata": {},
   "outputs": [
    {
     "name": "stdout",
     "output_type": "stream",
     "text": [
      "LCM of these 2 numbers is 72\n"
     ]
    }
   ],
   "source": [
    "## 1 method\n",
    "def gcd(n1,n2):\n",
    "    if n2 == 0 :\n",
    "        return n1\n",
    "    while n2 != 0:\n",
    "        remainder = n1% n2\n",
    "        n1 = n2 \n",
    "        n2 = remainder\n",
    "    return n1\n",
    "\n",
    "\n",
    "\n",
    "num1 = int (input(\"Enter your first number = \"))\n",
    "num2 = int (input(\"Enter your second number = \"))\n",
    "\n",
    "\n",
    "gcd = gcd(num1,num2)\n",
    "\n",
    "lcm = num1*num2//gcd # here we are using formula to find lcm of two numbers  , here we used // to get ans in integer form not in float\n",
    "\n",
    "print(f\"LCM of these 2 numbers is {lcm}\")\n",
    "\n",
    "\n",
    "\n",
    "\n",
    "\n",
    "\n"
   ]
  },
  {
   "cell_type": "code",
   "execution_count": null,
   "metadata": {},
   "outputs": [
    {
     "name": "stdout",
     "output_type": "stream",
     "text": [
      "LCM of these 2 numbers is 72\n"
     ]
    }
   ],
   "source": [
    "## 2 method\n",
    "\n",
    "def lcm (n1,n2):\n",
    "    if n1>n2:\n",
    "        greater = n1\n",
    "    else :\n",
    "        greater = n2\n",
    "    value = greater    \n",
    "    while True:\n",
    "        if greater % n1 ==0 and greater % n2 ==0: # if we got a number which is divisible by both numbers then break the loop\n",
    "           lcm = greater # getting minimum multiple of higher number which is divisible by both numbers\n",
    "           break\n",
    "        else: \n",
    "           greater = greater + value        # else we will keep on adding higher number to itself to get a number which is divisible by both numbers \n",
    "\n",
    "    return lcm         \n",
    "\n",
    "\n",
    "num1 = int (input(\"Enter your first number = \"))\n",
    "num2 = int (input(\"Enter your second number = \"))\n",
    "\n",
    "\n",
    "lcm = lcm(num1,num2)\n",
    "print(f\"LCM of these 2 numbers is {lcm}\")\n",
    "\n"
   ]
  },
  {
   "cell_type": "markdown",
   "metadata": {},
   "source": [
    "#### 6.\tCheck if a number is an Armstrong number.\n",
    "\n",
    "An Armstrong number is a number that is equal to the sum of its own digits each raised to the power of the number of digits. For example, 153 is an Armstrong number because 1^3 + 5^3 + 3^3 = 153."
   ]
  },
  {
   "cell_type": "code",
   "execution_count": 34,
   "metadata": {},
   "outputs": [
    {
     "name": "stdout",
     "output_type": "stream",
     "text": [
      "True\n"
     ]
    }
   ],
   "source": [
    "def  is_armstrong(n):\n",
    "    num_digit = len(str(n))\n",
    "    temp = n\n",
    "    sum = 0\n",
    "    while n>0:\n",
    "        digit = n% 10\n",
    "        n = n // 10\n",
    "        sum = sum + digit ** num_digit # this could be also done as sum_of_powers = sum(int(digit) ** num_digits for digit in num_str) A generator function is a special type of function in Python that returns an iterator but does not store all values in memory. Instead, it yields values one at a time using the yield keyword.\n",
    "    if temp == sum:\n",
    "        return True\n",
    "    else:\n",
    "        return False\n",
    "    \n",
    "\n",
    "print(is_armstrong(153))    "
   ]
  },
  {
   "cell_type": "markdown",
   "metadata": {},
   "source": [
    "#### 7.\tFind the reverse of a number without using strings.\n",
    "\n",
    "In this function we will reverse a number without using strings. We will take out the last digit of the number by modulo 10 and add it to the reverse number. Then we will multiply the reverse number by 10 and add the last digit to it. We will repeat this process until the number becomes 0."
   ]
  },
  {
   "cell_type": "code",
   "execution_count": 42,
   "metadata": {},
   "outputs": [
    {
     "name": "stdout",
     "output_type": "stream",
     "text": [
      "4321\n"
     ]
    }
   ],
   "source": [
    "def reversed_num(n):\n",
    "    reversed =0\n",
    "    while n>0:\n",
    "        digit = n% 10\n",
    "        reversed = reversed *10 + digit # here we are multiplying reversed by 10 to get the last digit of number and adding it to reversed\n",
    "        n = n//10\n",
    "\n",
    "    return reversed    \n",
    "\n",
    "print (reversed_num(1234))\n"
   ]
  },
  {
   "cell_type": "markdown",
   "metadata": {},
   "source": [
    "#### 8.\tCount the number of digits in an integer."
   ]
  },
  {
   "cell_type": "code",
   "execution_count": 43,
   "metadata": {},
   "outputs": [
    {
     "name": "stdout",
     "output_type": "stream",
     "text": [
      "4\n"
     ]
    }
   ],
   "source": [
    "def count_digit(n):\n",
    "    total_digits =0\n",
    "    while n>0:\n",
    "        total_digits = total_digits +1 # here we are counting number of digits in a number\n",
    "        n = n//10\n",
    "\n",
    "    return  total_digits   \n",
    "\n",
    "print (count_digit(1234))\n"
   ]
  },
  {
   "cell_type": "markdown",
   "metadata": {},
   "source": [
    "#### 9.\tCompute the sum of squares of the first N natural numbers.\n",
    "\n",
    "- In this function we will calculate the sum of squares of the first N natural numbers. We will loop from 1 to N and add the square of each number to the sum. The sum will be returned as the result."
   ]
  },
  {
   "cell_type": "code",
   "execution_count": 45,
   "metadata": {},
   "outputs": [
    {
     "name": "stdout",
     "output_type": "stream",
     "text": [
      "140\n"
     ]
    }
   ],
   "source": [
    "def sum_of_squares(n):\n",
    "    sum =0\n",
    "    for i in range (1 , n+1): # here we started loopfrom 1 because natural numbers start from 1\n",
    "        sum = sum + i **2\n",
    "\n",
    "    return sum\n",
    "\n",
    "\n",
    "print (sum_of_squares(7))"
   ]
  },
  {
   "cell_type": "markdown",
   "metadata": {},
   "source": [
    "#### 10.\tCompute the sum of cubes of the first N natural numbers.\n",
    "\n",
    "- In this function we will calculate the sum of cubes of the first N natural numbers. We will loop from 1 to N and add the cube of each number to the sum. The sum will be returned as the result."
   ]
  },
  {
   "cell_type": "code",
   "execution_count": 46,
   "metadata": {},
   "outputs": [
    {
     "name": "stdout",
     "output_type": "stream",
     "text": [
      "784\n"
     ]
    }
   ],
   "source": [
    "def sum_of_cubes(n):\n",
    "    sum =0\n",
    "    for i in range (1 , n+1): # here we started loop rom 1 because natural numbers start from 1\n",
    "        sum = sum + i **3\n",
    "\n",
    "    return sum\n",
    "\n",
    "\n",
    "print (sum_of_cubes(7))"
   ]
  },
  {
   "cell_type": "markdown",
   "metadata": {},
   "source": [
    "#### 11.\tFind the number of trailing zeroes in N!.\n",
    " - In this function we will find the number of trailing zeroes in N!. We know that a trailing zero is formed by a factor of 10, which is formed by 2 and 5. We will count the number of 5s in the prime factorization of N! to find the number of trailing zeroes. We will divide N by 5, then by 25, then by 125, and so on, to count the number of 5s in N!. The sum of these divisions will be the number of trailing zeroes.\n"
   ]
  },
  {
   "cell_type": "code",
   "execution_count": 47,
   "metadata": {},
   "outputs": [
    {
     "name": "stdout",
     "output_type": "stream",
     "text": [
      "24\n"
     ]
    }
   ],
   "source": [
    "def trailing_zeros(n):\n",
    "    count = 0\n",
    "    power_of_5= 5\n",
    "    while n>= power_of_5:\n",
    "        count = count + n // power_of_5 # here we are dividing n by power of 5 to get number of zeros in n\n",
    "        power_of_5 = power_of_5 * 5 # here we are multiplying power of 5 by 5 to get next power of 5\n",
    "\n",
    "    return count\n",
    "\n",
    "## Dry run of above code\n",
    "# n = 100\n",
    "# count = 0\n",
    "# power_of_5 = 5\n",
    "# 100>=5\n",
    "# count = 100//5 = 20\n",
    "# power_of_5 = 5*5 = 25\n",
    "# 100>=25\n",
    "# count = 100//25 = 4\n",
    "# power_of_5 = 25*5 = 125\n",
    "# 100<125\n",
    "# return count = 24\n",
    "\n",
    "\n",
    "print(trailing_zeros(100))"
   ]
  },
  {
   "cell_type": "markdown",
   "metadata": {},
   "source": [
    "#### 12.\tConvert a decimal number to binary without using built-in functions.\n",
    " - ###### Dry Run for `decimal_to_binary(13)`\n",
    "\n",
    "##### Dry Run for Binary Conversion\n",
    "\n",
    "| Step | n (Decimal) | n % 2 (Remainder) | binary (Updated)       | i (Multiplier) | n // 2 (Updated n) |\n",
    "|------|------------|-------------------|------------------------|----------------|--------------------|\n",
    "| 1    | 10         | 10 % 2 = 0        | 0 + (0 * 1) = 0        | 1 → 10         | 10 // 2 = 5        |\n",
    "| 2    | 5          | 5 % 2 = 1         | 0 + (1 * 10) = 10      | 10 → 100       | 5 // 2 = 2         |\n",
    "| 3    | 2          | 2 % 2 = 0         | 10 + (0 * 100) = 10    | 100 → 1000     | 2 // 2 = 1         |\n",
    "| 4    | 1          | 1 % 2 = 1         | 10 + (1 * 1000) = 1010 | 1000 → 10000   | 1 // 2 = 0         |\n",
    "| **End** | **n = 0 (loop stops)** | - | **Final Binary = 1010** | - | - |\n",
    "\n"
   ]
  },
  {
   "cell_type": "code",
   "execution_count": 52,
   "metadata": {},
   "outputs": [
    {
     "name": "stdout",
     "output_type": "stream",
     "text": [
      "1000010\n"
     ]
    }
   ],
   "source": [
    "def decimal_to_binary(n):\n",
    "    binary = 0 \n",
    "    i =1\n",
    "    while n>0:\n",
    "        remainder = n % 2\n",
    "        binary = binary +(remainder *i)\n",
    "        i = i *10\n",
    "        n = n//2\n",
    "\n",
    "    return binary\n",
    "\n",
    "print(decimal_to_binary(66))     "
   ]
  },
  {
   "cell_type": "markdown",
   "metadata": {},
   "source": [
    "#### 13.\tConvert a binary number to decimal without using built-in functions.\n",
    "- In this function we will convert a binary number to decimal without using built-in functions. We will loop through the binary number from right to left, multiplying each digit by 2 raised to the power of its position. The sum of these products will be the decimal equivalent of the binary number."
   ]
  },
  {
   "cell_type": "code",
   "execution_count": 57,
   "metadata": {},
   "outputs": [
    {
     "name": "stdout",
     "output_type": "stream",
     "text": [
      "66\n"
     ]
    }
   ],
   "source": [
    "def binary_to_decimal(n):\n",
    "    \n",
    "    decimal =0\n",
    "    i = 0\n",
    "    while n >0:\n",
    "        digit = n% 10  # here we are taking last digit of number\n",
    "        decimal = decimal + digit *(2 ** i) # here we are multiplying digit with 2 power i and adding it to decimal\n",
    "        i = i +1 # here we are increasing power of 2\n",
    "        n = n //10\n",
    "\n",
    "    return decimal\n",
    "\n",
    "print(binary_to_decimal(1000010))\n"
   ]
  },
  {
   "cell_type": "markdown",
   "metadata": {},
   "source": [
    "#### 14.\tFind the smallest divisor of a number greater than 1.\n",
    "\n",
    "- In this function we will find the smallest divisor of a number greater than 1. We will loop from 2 to the square root of the number, checking if the number is divisible by the loop variable. The first divisor found will be the smallest divisor greater than 1."
   ]
  },
  {
   "cell_type": "code",
   "execution_count": 66,
   "metadata": {},
   "outputs": [
    {
     "name": "stdout",
     "output_type": "stream",
     "text": [
      "3\n"
     ]
    }
   ],
   "source": [
    "def smallest_divisor(n):\n",
    "    for i in range(2,n): # here we are starting loop from 2 because 1 is not a prime number\n",
    "        if n % i== 0 :\n",
    "         return i\n",
    "\n",
    "print(smallest_divisor(15))"
   ]
  },
  {
   "cell_type": "markdown",
   "metadata": {},
   "source": [
    "#### 15.\tCheck if a number is a perfect number (sum of its factors excluding itself equals the number).\n",
    "\n",
    "- In this function we will check if a number is a perfect number. A perfect number is a positive integer that is equal to the sum of its proper divisors (excluding itself). We will loop from 1 to the square root of the number, checking if the number is divisible by the loop variable. If it is divisible, we will add the divisor and the number divided by the divisor to the sum. If the sum is equal to the number, it is a perfect number."
   ]
  },
  {
   "cell_type": "code",
   "execution_count": 69,
   "metadata": {},
   "outputs": [
    {
     "name": "stdout",
     "output_type": "stream",
     "text": [
      "True\n"
     ]
    }
   ],
   "source": [
    "def is_perfect(n):\n",
    "    sum =0\n",
    "    for i in range (1,n): # here we are starting loop from 1 because 1 is a divisor of every number\n",
    "        if n %i ==0:\n",
    "            sum = sum + i\n",
    "    if sum == n:  # if sum of divisors is equal to number then it is a perfect number\n",
    "        return True\n",
    "\n",
    "    else: # else it is not a perfect number\n",
    "        return False\n",
    "\n",
    "\n",
    "print(is_perfect(28))    "
   ]
  },
  {
   "cell_type": "markdown",
   "metadata": {},
   "source": []
  },
  {
   "cell_type": "markdown",
   "metadata": {},
   "source": [
    "#### 16.\tReverse a string without using any built-in functions.\n",
    "\n",
    "- In this function we will reverse a string without using any built-in functions. We will loop through the string from the first character to the last character, adding each  next character previous to existing  string. The reversed string will be returned as the result."
   ]
  },
  {
   "cell_type": "code",
   "execution_count": 71,
   "metadata": {},
   "outputs": [
    {
     "name": "stdout",
     "output_type": "stream",
     "text": [
      "olleh\n"
     ]
    }
   ],
   "source": [
    "def reversed_string(s):\n",
    "  rev_str = ''\n",
    "  for char in s :\n",
    "     rev_str = char  + rev_str  # here we are adding char to rev_str to get reversed string\n",
    "  return rev_str\n",
    "\n",
    "\n",
    "print(reversed_string(\"hello\"))\n",
    "\n",
    "\n"
   ]
  },
  {
   "cell_type": "markdown",
   "metadata": {},
   "source": [
    "#### 17.\tFind the longest word in a given string.\n"
   ]
  },
  {
   "cell_type": "code",
   "execution_count": 72,
   "metadata": {},
   "outputs": [
    {
     "name": "stdout",
     "output_type": "stream",
     "text": [
      "calculator\n"
     ]
    }
   ],
   "source": [
    "def longest_word(s):\n",
    "    words = s.split()\n",
    "    longest_word = ''\n",
    "    for word in words:\n",
    "        if  len(word) > len(longest_word):\n",
    "            longest_word = word\n",
    "\n",
    "    return longest_word\n",
    "\n",
    "\n",
    "print(longest_word(\"Hi! I am using my calculator\"))"
   ]
  },
  {
   "cell_type": "markdown",
   "metadata": {},
   "source": [
    "#### 18.\tCount the occurrences of each character in a string."
   ]
  },
  {
   "cell_type": "code",
   "execution_count": null,
   "metadata": {},
   "outputs": [
    {
     "name": "stdout",
     "output_type": "stream",
     "text": [
      "{'I': 1, ' ': 4, 'a': 3, 'm': 1, 'l': 1, 'i': 4, 'v': 1, 'n': 3, 'g': 1, 'p': 1, 'k': 1, 's': 1, 't': 1}\n"
     ]
    }
   ],
   "source": [
    "def count_each_character(s):\n",
    "    char_count = {}\n",
    "    for char in s :\n",
    "        char_count[char] = char_count.get(char,0)+1  # here we are getting value of char from dictionary and adding 1 to it \n",
    "\n",
    "\n",
    "\n",
    "    return char_count \n",
    "\n",
    "\n",
    "print(count_each_character(\"I am living in pakistan\"))\n",
    "    "
   ]
  },
  {
   "cell_type": "markdown",
   "metadata": {},
   "source": [
    "#### 19.\tRemove all duplicate characters from a string."
   ]
  },
  {
   "cell_type": "code",
   "execution_count": 83,
   "metadata": {},
   "outputs": [
    {
     "name": "stdout",
     "output_type": "stream",
     "text": [
      "ban\n",
      "I wantoeb\n"
     ]
    }
   ],
   "source": [
    "def remove_duplicates(s):\n",
    "    seen = set()  # set is used to store unique values\n",
    "    result = []  # why we used list because it maintains order \n",
    "    for char in s:\n",
    "        if char not in seen:\n",
    "            seen.add(char)\n",
    "            result.append(char)\n",
    "    return \"\".join(result)     \n",
    "\n",
    "\n",
    "\n",
    "print(remove_duplicates(\"banana\"))\n",
    "print(remove_duplicates(\"I want to eat banana\")) # space is also treated as a character"
   ]
  },
  {
   "cell_type": "markdown",
   "metadata": {},
   "source": [
    "#### 20.\tFind the first non-repeating character in a string\n",
    "\n",
    "- In this function we will find the first non-repeating character in a string. We will loop through the string and count the occurrences of each character. Then we will loop through the string again and return the first character with only one occurrence."
   ]
  },
  {
   "cell_type": "code",
   "execution_count": 86,
   "metadata": {},
   "outputs": [
    {
     "name": "stdout",
     "output_type": "stream",
     "text": [
      "h\n"
     ]
    }
   ],
   "source": [
    "def first_nonrepeating(s):\n",
    "    char_count={}\n",
    "    for char in s:\n",
    "        char_count[char] = char_count.get(char,0)+1\n",
    "        \n",
    "    for char in s:\n",
    "        if char_count[char] == 1:\n",
    "            return char\n",
    "        \n",
    "\n",
    "print(first_nonrepeating(\"hello\"))\n"
   ]
  },
  {
   "cell_type": "markdown",
   "metadata": {},
   "source": [
    "#### 21.\tImplement a function to check if a string follows camel case.\n",
    "\n",
    "- pascal case = first letter of each word is capital,i.e. ThisIsPascalCase\n",
    "- camel case = first letter of each word is small except first word, i.e. thisIsCamelCase\n",
    "- snake case = words are separated by underscore, i.e. this_is_snake_case\n",
    " Properties of a camel case string:\n",
    "- It should not start with a capital letter.\n",
    "- It should not contain any spaces.\n",
    "- It should not contain any special characters.\n",
    "- It should not contain any numbers.\n",
    "- It should not contain any underscores.\n",
    "- It should not contain any consecutive capital letters.\n",
    "- It should not contain any consecutive small letters."
   ]
  },
  {
   "cell_type": "code",
   "execution_count": 90,
   "metadata": {},
   "outputs": [
    {
     "name": "stdout",
     "output_type": "stream",
     "text": [
      "True\n"
     ]
    }
   ],
   "source": [
    "def is_camel_case(s):\n",
    "    if not s or not s[0].islower():\n",
    "        return False\n",
    "    contain_upper = any(c.isupper() for c in s)\n",
    "    contain_invalid = any(c == \" \" for c in s)\n",
    "\n",
    "    if contain_upper or not conatin_invalid:\n",
    "        return True\n",
    "    \n",
    "\n",
    "print(is_camel_case(\"isThisRright\"))"
   ]
  },
  {
   "cell_type": "markdown",
   "metadata": {},
   "source": [
    "####  22. Convert string to camel case\n",
    "\n",
    "- In this function we will convert a string to camel case. We will split the string by spaces and capitalize the first letter of each word except the first word. Then we will join the words back together to form the camel case string."
   ]
  },
  {
   "cell_type": "code",
   "execution_count": 95,
   "metadata": {},
   "outputs": [
    {
     "data": {
      "text/plain": [
       "'theBirdIsFlying'"
      ]
     },
     "execution_count": 95,
     "metadata": {},
     "output_type": "execute_result"
    }
   ],
   "source": [
    "def converting_in_camel_case(s):\n",
    "    lst = s.split()\n",
    "    if not lst :\n",
    "        return \" \"\n",
    "    \n",
    "    result = \"\"\n",
    "    for word in lst [1:]:\n",
    "        result = result + word.capitalize() # here we are capitalizing first letter of every word except first word\n",
    "\n",
    "\n",
    "    camel_case_string = lst[0].lower() +  result\n",
    "\n",
    "    return camel_case_string \n",
    "\n",
    "converting_in_camel_case(\"The bird is Flying\") \n"
   ]
  },
  {
   "cell_type": "markdown",
   "metadata": {},
   "source": [
    "#### 23.\tImplement a function to convert string in tiltle case."
   ]
  },
  {
   "cell_type": "code",
   "execution_count": 102,
   "metadata": {},
   "outputs": [
    {
     "name": "stdout",
     "output_type": "stream",
     "text": [
      "Hello World\n"
     ]
    }
   ],
   "source": [
    "def to_title_case(s):\n",
    "   word = s.split()\n",
    "   title_case_words = [words.capitalize() for words in word] # here we are capitalizing first letter of every word\n",
    "   return \" \".join (title_case_words) # adding spaces automatically between words\n",
    "\n",
    "print(to_title_case(\"hello world\"))"
   ]
  },
  {
   "cell_type": "markdown",
   "metadata": {},
   "source": [
    "#### 24.\tCheck if a string is a pangram (contains all 26 letters).\n",
    "\n",
    "- pangarm is a string that contains all the alphabets of a language at least once.\n",
    "- i.e The quick brown fox jumps over the lazy dog."
   ]
  },
  {
   "cell_type": "code",
   "execution_count": 105,
   "metadata": {},
   "outputs": [
    {
     "name": "stdout",
     "output_type": "stream",
     "text": [
      "True\n",
      "False\n"
     ]
    }
   ],
   "source": [
    "import string \n",
    "\n",
    "def is_pangarm(s):\n",
    "    s=s.lower()\n",
    "    for letter in string.ascii_lowercase:\n",
    "        if letter not in s:\n",
    "            return False\n",
    "        \n",
    "\n",
    "    return True\n",
    "\n",
    "print(is_pangarm(\"The quick brown fox jumps over the lazy dog\"))\n",
    "print(is_pangarm(\"Hello World\"))\n",
    "\n",
    "\n",
    "# string is a module in python which contains string constants and templates\n",
    "# string.ascii_lowercase is a string constant which contains all lowercase letters\n",
    "# here we are checking if all lowercase letters are present in string or not\n",
    "\n"
   ]
  },
  {
   "cell_type": "markdown",
   "metadata": {},
   "source": [
    "#### 25."
   ]
  },
  {
   "cell_type": "code",
   "execution_count": null,
   "metadata": {},
   "outputs": [],
   "source": []
  }
 ],
 "metadata": {
  "kernelspec": {
   "display_name": "Python 3",
   "language": "python",
   "name": "python3"
  },
  "language_info": {
   "codemirror_mode": {
    "name": "ipython",
    "version": 3
   },
   "file_extension": ".py",
   "mimetype": "text/x-python",
   "name": "python",
   "nbconvert_exporter": "python",
   "pygments_lexer": "ipython3",
   "version": "3.9.19"
  }
 },
 "nbformat": 4,
 "nbformat_minor": 2
}
