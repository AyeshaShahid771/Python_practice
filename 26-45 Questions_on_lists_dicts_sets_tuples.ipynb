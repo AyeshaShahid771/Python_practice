{
 "cells": [
  {
   "cell_type": "markdown",
   "metadata": {},
   "source": [
    "### Basic logic building questions on lists,sets,dicts,tuples in python\n",
    "\n",
    "| Property       | List              | Dictionary        | Set             | Tuple            |\n",
    "|---------------|------------------|------------------|----------------|----------------|\n",
    "| **Mutable?**  | Yes              | Yes              | Yes            | No             |\n",
    "| **Ordered?**  | Yes (Indexed)    | Yes (Python 3.7+) | No             | Yes (Indexed)  |\n",
    "| **Duplicates?** | Yes              | No (Keys unique)  | No             | Yes            |\n",
    "| **Indexing?** | Yes              | Keys (not index) | No             | Yes            |\n",
    "| **Symbol**    | `[]`             | `{}` or `dict()`  | `{}` or `set()` | `()` or `tuple()` |\n",
    "| **Use Case**  | Ordered data      | Key-Value pairs  | Unique values  | Immutable data |\n",
    "| **Example**   | `[1, 2, 3]`      | `{\"a\": 1, \"b\": 2}` | `{1, 2, 3}`    | `(1, 2, 3)`    |\n"
   ]
  },
  {
   "cell_type": "markdown",
   "metadata": {},
   "source": [
    "#### 26.\tRemove all duplicates from a list while maintaining order."
   ]
  },
  {
   "cell_type": "code",
   "execution_count": 77,
   "metadata": {},
   "outputs": [
    {
     "name": "stdout",
     "output_type": "stream",
     "text": [
      "[1, 2, 3, 4, 5, 6, 7, 8, 9]\n"
     ]
    }
   ],
   "source": [
    "def remove_duplicates(lst):\n",
    "    seen= set()\n",
    "    result=[]\n",
    "    for item in lst:\n",
    "        if item not in seen: #if item is not in seen set, add it to the result list and the seen set\n",
    "            seen.add(item) #add item to the seen set\n",
    "            result.append(item) #add item to the result list\n",
    "\n",
    "    return result\n",
    "\n",
    "print(remove_duplicates([1,2,3,4,5,6,7,8,9,1,2,3,4,5,6,7,8,9]))        "
   ]
  },
  {
   "cell_type": "markdown",
   "metadata": {},
   "source": [
    "#### 27.Rotate a list to the right by k positions."
   ]
  },
  {
   "cell_type": "code",
   "execution_count": 78,
   "metadata": {},
   "outputs": [
    {
     "name": "stdout",
     "output_type": "stream",
     "text": [
      "[7, 8, 9, 1, 2, 3, 4, 5, 6]\n"
     ]
    }
   ],
   "source": [
    "def rotate_right(lst,k):\n",
    "    k = k% len(lst)\n",
    "    return lst[-k:]+lst[:-k] #slicing the list from k to end and then from start to k\n",
    "\n",
    "print(rotate_right([1,2,3,4,5,6,7,8,9],3))"
   ]
  },
  {
   "cell_type": "markdown",
   "metadata": {},
   "source": [
    "#### 28.Find the second largest element in a list without using built-in functions."
   ]
  },
  {
   "cell_type": "code",
   "execution_count": 79,
   "metadata": {},
   "outputs": [
    {
     "name": "stdout",
     "output_type": "stream",
     "text": [
      "8\n"
     ]
    }
   ],
   "source": [
    "def second_largest(lst):\n",
    "    largest = lst[0]\n",
    "    second_largest = lst[0]\n",
    "    for item in lst: #iterating through the list\n",
    "        if item>largest: #if item is greater than the largest, make the largest the second largest and item the largest\n",
    "            second_largest = largest\n",
    "            largest = item\n",
    "        elif item>second_largest: #if item is greater than the second largest, make item the second largest\n",
    "            second_largest = item\n",
    "\n",
    "    return second_largest\n",
    "\n",
    "print(second_largest([1,2,3,4,5,6,7,8,9]))\n",
    "\n"
   ]
  },
  {
   "cell_type": "markdown",
   "metadata": {},
   "source": [
    "#### 29.Merge two sorted lists into a single sorted list."
   ]
  },
  {
   "cell_type": "code",
   "execution_count": 80,
   "metadata": {},
   "outputs": [
    {
     "name": "stdout",
     "output_type": "stream",
     "text": [
      "[1, 2, 3, 4, 5, 6, 7, 8, 9]\n"
     ]
    }
   ],
   "source": [
    "def merged(lst1,lst2):\n",
    "    merged_list = []\n",
    "    i =0\n",
    "    j= 0\n",
    "\n",
    "\n",
    "    while i<len(lst1) and j<len(lst2): # to iterate till the end of the list\n",
    "        if lst1[i]<lst2[j]: #if the element in lst1 is less than the element in lst2, add the element in lst1 to the merged list\n",
    "            merged_list.append(lst1[i])\n",
    "            i = i+1\n",
    "        else:    #if the element in lst2 is less than the element in lst1, add the element in lst2 to the merged list\n",
    "            merged_list.append(lst2[j])\n",
    "            j = j+1\n",
    "\n",
    "    merged_list.extend(lst1[i:]) #add the remaining elements in lst1 to the merged list\n",
    "    merged_list.extend(lst2[i:])    #add the remaining elements in lst2 to the merged list\n",
    "\n",
    "    return merged_list\n",
    "\n",
    "print(merged([1,3,5,7,9],[2,4,6,8,10]))\n",
    "\n",
    "    "
   ]
  },
  {
   "cell_type": "markdown",
   "metadata": {},
   "source": [
    "#### 30.Find all pairs in a list that sum up to a given target."
   ]
  },
  {
   "cell_type": "code",
   "execution_count": 81,
   "metadata": {},
   "outputs": [
    {
     "name": "stdout",
     "output_type": "stream",
     "text": [
      "[(6, 4), (7, 3), (8, 2), (9, 1)]\n"
     ]
    }
   ],
   "source": [
    "def find_target(lst,target):\n",
    "    seen = set()\n",
    "    pairs=[]\n",
    "    for item in lst:\n",
    "        complement = target - item  #finding the complement of the item like 10-1 = 9 so 9 is the complement of 1\n",
    "        if complement in seen:\n",
    "           pairs.append((item,complement)) # making tuple of the item and its complement\n",
    "\n",
    "        seen.add(item)\n",
    "\n",
    "\n",
    "    return pairs\n",
    "print(find_target([1,2,3,4,5,6,7,8,9],10))"
   ]
  },
  {
   "cell_type": "markdown",
   "metadata": {},
   "source": [
    "#### 31.Find the most frequent element in a list.\n"
   ]
  },
  {
   "cell_type": "code",
   "execution_count": 82,
   "metadata": {},
   "outputs": [
    {
     "name": "stdout",
     "output_type": "stream",
     "text": [
      "1\n",
      "1\n"
     ]
    }
   ],
   "source": [
    "def most_freq(lst):\n",
    "    freq = {}\n",
    "    for item in lst:\n",
    "        freq[item ]= freq.get(item,0)+1 #counting the frequency of the elements in the list\n",
    "\n",
    "\n",
    "\n",
    "    max_freq = max(freq.values())  #finding the maximum frequency of the elements in the list\n",
    "    for key,values in freq .items():  #iterating through the dictionary\n",
    "        if values == max_freq:  #if the value is equal to the maximum frequency, return the key\n",
    "          return key       \n",
    "print(most_freq([1,2,3,4,5,6,7,8,9,1,2,3,4,5,6,7,8,9,1,2,3,4,5,6,7,8,9]))\n",
    "print(most_freq([1, 3, 2, 3, 4, 3, 5, 1, 1, 1]))"
   ]
  },
  {
   "cell_type": "markdown",
   "metadata": {},
   "source": [
    "#### 32.Implement a function to flatten a nested list."
   ]
  },
  {
   "cell_type": "code",
   "execution_count": 83,
   "metadata": {},
   "outputs": [
    {
     "name": "stdout",
     "output_type": "stream",
     "text": [
      "[1, 2, 3, 4, 5, 6, 7, 8, 9]\n"
     ]
    }
   ],
   "source": [
    "def flatten_list(lst):\n",
    "    result = [item for sublist in lst for item in sublist] #flattening the list , list comprehension  syntax :new_list = [expression for item in iterable if condition]\n",
    "    return result\n",
    "\n",
    "print(flatten_list([[1,2,3],[4,5,6],[7,8,9]]))"
   ]
  },
  {
   "cell_type": "markdown",
   "metadata": {},
   "source": [
    "#### 33.Partition a list into even and odd numbers."
   ]
  },
  {
   "cell_type": "code",
   "execution_count": 84,
   "metadata": {},
   "outputs": [
    {
     "name": "stdout",
     "output_type": "stream",
     "text": [
      "([2, 4, 6, 8], [1, 3, 5, 7, 9])\n"
     ]
    }
   ],
   "source": [
    "def even_odd(lst):\n",
    "    even =[num for num in lst if num% 2 == 0] #list comprehension to find the even numbers\n",
    "    odd = [num for num in lst if num%2 != 0] #list comprehension to find the odd numbers\n",
    "    return even,odd\n",
    "\n",
    "\n",
    "print(even_odd([1,2,3,4,5,6,7,8,9]))"
   ]
  },
  {
   "cell_type": "markdown",
   "metadata": {},
   "source": [
    "#### 34.Find the intersection and union of two lists without using built-in set operations.\n",
    "\n"
   ]
  },
  {
   "cell_type": "code",
   "execution_count": 85,
   "metadata": {},
   "outputs": [
    {
     "name": "stdout",
     "output_type": "stream",
     "text": [
      "([2, 4, 6, 8], [1, 2, 3, 4, 5, 6, 7, 8, 9, 10])\n"
     ]
    }
   ],
   "source": [
    "def union_intersection(lst1,lst2):\n",
    "    dict = { item : True for item in lst1} #creating a dictionary of the elements in lst1\n",
    "    intersection = [ items for items in lst2 if items in dict] #finding the intersection of the two lists\n",
    "    union = lst1 + [items for items in lst2 if items not in dict] #finding the union of the two lists\n",
    "\n",
    "\n",
    "    return intersection , union \n",
    "\n",
    "print(union_intersection([1,2,3,4,5,6,7,8,9],[2,4,6,8,10]))"
   ]
  },
  {
   "cell_type": "markdown",
   "metadata": {},
   "source": [
    "#### 35.Check if a list is a palindrome."
   ]
  },
  {
   "cell_type": "code",
   "execution_count": 86,
   "metadata": {},
   "outputs": [
    {
     "name": "stdout",
     "output_type": "stream",
     "text": [
      "True\n"
     ]
    }
   ],
   "source": [
    "def check_palindrom(lst):\n",
    "    reversed_lst = lst[::-1] #reversing the list\n",
    "    return reversed_lst == lst #checking if the reversed list is equal to the original list\n",
    "print(check_palindrom([1,2,3,4,5,4,3,2,1]))"
   ]
  },
  {
   "cell_type": "markdown",
   "metadata": {},
   "source": [
    "#### 36.Count the frequency of words in a given sentence."
   ]
  },
  {
   "cell_type": "code",
   "execution_count": 87,
   "metadata": {},
   "outputs": [
    {
     "name": "stdout",
     "output_type": "stream",
     "text": [
      "{'hello': 3, 'world': 3}\n"
     ]
    }
   ],
   "source": [
    "def count_freq(s):\n",
    "    lst = s.split() #splitting the string into words\n",
    "    freq = {}\n",
    "    for words in lst:\n",
    "        words = words.lower()\n",
    "        freq[words]= freq.get(words,0)+1 #counting the frequency of the words in the string\n",
    "    return freq\n",
    "\n",
    "\n",
    "print(count_freq(\"hello world hello world hello world\"))\n"
   ]
  },
  {
   "cell_type": "markdown",
   "metadata": {},
   "source": [
    "#### 37.Merge two dictionaries and sum values for common keys."
   ]
  },
  {
   "cell_type": "code",
   "execution_count": 88,
   "metadata": {},
   "outputs": [
    {
     "name": "stdout",
     "output_type": "stream",
     "text": [
      "{'a': 2, 'b': 3, 'c': 4}\n"
     ]
    }
   ],
   "source": [
    "def merged(lst1,lst2):\n",
    "    merged = lst1.copy()\n",
    "\n",
    "    for key,values in lst2.items(): #iterating through the dictionary\n",
    "        merged[key]= merged.get(key,0 )+1 #counting the frequency of the elements in the dictionary\n",
    "\n",
    "    return merged\n",
    "\n",
    "\n",
    "print(merged({'a':1,'b':2,'c':3},{'a':1,'b':2,'c':3}))"
   ]
  },
  {
   "cell_type": "code",
   "execution_count": 89,
   "metadata": {},
   "outputs": [],
   "source": [
    "#### 38.Find the key with the maximum value in a dictionary."
   ]
  },
  {
   "cell_type": "code",
   "execution_count": 90,
   "metadata": {},
   "outputs": [
    {
     "name": "stdout",
     "output_type": "stream",
     "text": [
      "c\n"
     ]
    }
   ],
   "source": [
    "def max_key(d):\n",
    "    return max(d,key=d.get) #finding the key with the maximum value in the dictionary\n",
    "\n",
    "print(max_key({'a':1,'b':2,'c':3}))"
   ]
  },
  {
   "cell_type": "markdown",
   "metadata": {},
   "source": [
    "#### 39.Invert a dictionary (swap keys and values)."
   ]
  },
  {
   "cell_type": "code",
   "execution_count": 91,
   "metadata": {},
   "outputs": [],
   "source": [
    "def dict_inversion(d):\n",
    "    inverted=[]\n",
    "    for key,values in d.items():\n",
    "        inverted.append((values,key)) #inverting the dictionary\n",
    "\n",
    "    return dict(inverted)"
   ]
  },
  {
   "cell_type": "markdown",
   "metadata": {},
   "source": [
    "#### 40.Group words by their first letter using a dictionary."
   ]
  },
  {
   "cell_type": "code",
   "execution_count": 92,
   "metadata": {},
   "outputs": [
    {
     "name": "stdout",
     "output_type": "stream",
     "text": [
      "{'a': ['apple', 'avocado'], 'b': ['banana', 'blueberry', 'blackberry'], 'c': ['cherry', 'cantaloupe'], 'd': ['date'], 'e': ['elderberry'], 'f': ['fig'], 'g': ['grape'], 'h': ['honeydew'], 'k': ['kiwi'], 'l': ['lemon'], 'm': ['mango'], 'n': ['nectarine'], 'o': ['orange'], 'p': ['papaya'], 'q': ['quince'], 'r': ['raspberry'], 's': ['strawberry'], 't': ['tangerine'], 'w': ['watermelon']}\n"
     ]
    }
   ],
   "source": [
    "def group_by_first_letter(lst):\n",
    "    grouped= {}\n",
    "    for words in lst:\n",
    "        first_letter = words [0].lower()\n",
    "        if first_letter not in grouped:\n",
    "            grouped[first_letter]=[]\n",
    "        grouped[first_letter].append(words) #grouping the words by their first letter\n",
    "   \n",
    "    return grouped \n",
    "\n",
    "\n",
    "print(group_by_first_letter(['apple','banana','cherry','avocado','blueberry','blackberry','cantaloupe','date','elderberry','fig','grape','honeydew','kiwi','lemon','mango','nectarine','orange','papaya','quince','raspberry','strawberry','tangerine','watermelon']))"
   ]
  },
  {
   "cell_type": "markdown",
   "metadata": {},
   "source": [
    "#### 41. Find max and min in tuple"
   ]
  },
  {
   "cell_type": "code",
   "execution_count": 93,
   "metadata": {},
   "outputs": [
    {
     "name": "stdout",
     "output_type": "stream",
     "text": [
      "(9, 1)\n"
     ]
    }
   ],
   "source": [
    "def max_min_tuple(lst):\n",
    "    max_val = lst[0]\n",
    "    min_val = lst[0]\n",
    "\n",
    "    for num in lst :\n",
    "        if num > max_val:#if the number is greater than the maximum value, make the number the maximum value\n",
    "            max_val = num\n",
    "        elif num < min_val: # if the number is less than the minimum value, make the number the minimum value\n",
    "            min_val = num\n",
    "\n",
    "    return max_val,min_val\n",
    "print(max_min_tuple([1,2,3,4,5,6,7,8,9]))"
   ]
  },
  {
   "cell_type": "markdown",
   "metadata": {},
   "source": [
    "#### 42 . Convert tuples in dictionary\n"
   ]
  },
  {
   "cell_type": "code",
   "execution_count": 94,
   "metadata": {},
   "outputs": [
    {
     "name": "stdout",
     "output_type": "stream",
     "text": [
      "{'a': 1, 'b': 2, 'c': 3}\n"
     ]
    }
   ],
   "source": [
    "def tuples_to_dict(lst):\n",
    "    return dict(lst) #converting the list of tuples to dictionary\n",
    "\n",
    "print(tuples_to_dict([('a',1),('b',2),('c',3)]))"
   ]
  },
  {
   "cell_type": "markdown",
   "metadata": {},
   "source": [
    "#### 43.Sort a list of tuples based on the second element."
   ]
  },
  {
   "cell_type": "code",
   "execution_count": 95,
   "metadata": {},
   "outputs": [
    {
     "name": "stdout",
     "output_type": "stream",
     "text": [
      "[('a', 1), ('b', 2), ('c', 3), ('d', 4), ('e', 5), ('f', 6), ('g', 7), ('h', 8), ('i', 9)]\n"
     ]
    }
   ],
   "source": [
    "def sorting_tuple(lst):\n",
    "    return sorted(lst,key=lambda x:x[1]) #sorting the tuple based on the second element of the tuple\n",
    "\n",
    "print(sorting_tuple([('a',1),('b',2),('c',3),('d',4),('e',5),('f',6),('g',7),('h',8),('i',9)]))"
   ]
  },
  {
   "cell_type": "markdown",
   "metadata": {},
   "source": [
    "#### 44.Check if two tuples are identical."
   ]
  },
  {
   "cell_type": "code",
   "execution_count": 96,
   "metadata": {},
   "outputs": [
    {
     "name": "stdout",
     "output_type": "stream",
     "text": [
      "True\n"
     ]
    }
   ],
   "source": [
    "def identical_tuples(tup1,tup2):\n",
    "    return tup1 == tup2 #checking if the two tuples are identical\n",
    "print(identical_tuples(('a',1),('a',1)))"
   ]
  },
  {
   "cell_type": "markdown",
   "metadata": {},
   "source": [
    "#### 45.Find common elements between two tuples."
   ]
  },
  {
   "cell_type": "code",
   "execution_count": 97,
   "metadata": {},
   "outputs": [
    {
     "name": "stdout",
     "output_type": "stream",
     "text": [
      "['a', 1]\n"
     ]
    }
   ],
   "source": [
    "def similar_elements(tup1,tup2):\n",
    "    similar=[]\n",
    "    for item in tup1:\n",
    "        if item in tup2:\n",
    "            similar.append(item) #finding the similar elements in the two tuples\n",
    "\n",
    "    return similar\n",
    "\n",
    "print(similar_elements(('a',1,'b',2,'c',3),('a',1,'d',4,'e',5)))"
   ]
  },
  {
   "cell_type": "markdown",
   "metadata": {},
   "source": []
  },
  {
   "cell_type": "code",
   "execution_count": null,
   "metadata": {},
   "outputs": [],
   "source": []
  }
 ],
 "metadata": {
  "kernelspec": {
   "display_name": "Python 3",
   "language": "python",
   "name": "python3"
  },
  "language_info": {
   "codemirror_mode": {
    "name": "ipython",
    "version": 3
   },
   "file_extension": ".py",
   "mimetype": "text/x-python",
   "name": "python",
   "nbconvert_exporter": "python",
   "pygments_lexer": "ipython3",
   "version": "3.9.19"
  }
 },
 "nbformat": 4,
 "nbformat_minor": 2
}
