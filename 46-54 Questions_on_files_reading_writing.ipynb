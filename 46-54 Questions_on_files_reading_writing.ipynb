{
 "cells": [
  {
   "cell_type": "markdown",
   "metadata": {},
   "source": [
    "###  46-55 Questions_on_files_reading_writing\n",
    "\n",
    "| Mode  | Operation     | Creates? | Truncates? | Read? | Write? | Append? | Syntax                 |\n",
    "|-------|-------------|---------|-----------|------|-------|--------|-------------------------|\n",
    "| `\"r\"`  | Read        | No   | No      | Yes  | No  | No   | `open(\"file.txt\", \"r\")`  |\n",
    "| `\"w\"`  | Write       | Yes  | Yes     | No  | Yes  | No   | `open(\"file.txt\", \"w\")`  |\n",
    "| `\"a\"`  | Append      | Yes  | No      | No  | Yes  | Yes  | `open(\"file.txt\", \"a\")`  |\n",
    "| `\"r+\"` | Read/Write  | No   | No      | Yes  | Yes  | No   | `open(\"file.txt\", \"r+\")` |\n",
    "| `\"w+\"` | Write/Read  | Yes  | Yes     | Yes  | Yes  | No   | `open(\"file.txt\", \"w+\")` |\n",
    "| `\"a+\"` | Append/Read | Yes  | No      | Yes  | Yes  | Yes  | `open(\"file.txt\", \"a+\")` |\n"
   ]
  },
  {
   "cell_type": "markdown",
   "metadata": {},
   "source": [
    "#### 46. Read a file and count the number of words."
   ]
  },
  {
   "cell_type": "code",
   "execution_count": 44,
   "metadata": {},
   "outputs": [
    {
     "name": "stdout",
     "output_type": "stream",
     "text": [
      "7\n"
     ]
    }
   ],
   "source": [
    "def count_words_in_files(filename):\n",
    "    try:\n",
    "        with open(filename,\"r\",encoding='utf-8')as f: ## utf-8 is used to read the file in english language\n",
    "            words= f.read().split() ## split is used to split the words in the file\n",
    "            return len(words)\n",
    "\n",
    "    except FileNotFoundError: ## if file is not found then it will return the message\n",
    "        return \"File not found\"\n",
    "\n",
    "print(count_words_in_files(\"sample.txt\"))                 \n",
    "           "
   ]
  },
  {
   "cell_type": "markdown",
   "metadata": {},
   "source": [
    "#### 47. Read a file and count the number of lines."
   ]
  },
  {
   "cell_type": "code",
   "execution_count": 45,
   "metadata": {},
   "outputs": [
    {
     "name": "stdout",
     "output_type": "stream",
     "text": [
      "3\n"
     ]
    }
   ],
   "source": [
    "def count_lines(filename):\n",
    "    try:\n",
    "        with open(filename,\"r\",encoding ='utf -8')as f:\n",
    "            lines =f.readlines() ## readlines is used to read the lines in the file\n",
    "            return len(lines)\n",
    "    except FileNotFoundError:\n",
    "        return \"File not found\"\n",
    "print(count_lines(\"sample.txt\"))"
   ]
  },
  {
   "cell_type": "markdown",
   "metadata": {},
   "source": [
    "#### 48. Read a file and count the number of characters."
   ]
  },
  {
   "cell_type": "code",
   "execution_count": 46,
   "metadata": {},
   "outputs": [],
   "source": [
    "def count_words_in_file(filename):\n",
    "    try:\n",
    "        with open(filename,\"r\",encoding = 'utf-8')as f:\n",
    "            words = f.read() ## read is used to read the file\n",
    "            return len(words) ## len is used to count the words in the file\n",
    "        \n",
    "    except FileNotFoundError:\n",
    "        return \"File not Found\"\n",
    "    \n",
    "    print(count_words_in_files(\"sample.txt\"))\n"
   ]
  },
  {
   "cell_type": "markdown",
   "metadata": {},
   "source": [
    "#### 49. Find the most frequently occurring word in a file."
   ]
  },
  {
   "cell_type": "code",
   "execution_count": 47,
   "metadata": {},
   "outputs": [
    {
     "name": "stdout",
     "output_type": "stream",
     "text": [
      "('to', 1)\n"
     ]
    }
   ],
   "source": [
    "from collections import Counter\n",
    "\n",
    "def count_most_frequent_words(filename):\n",
    "    try:\n",
    "        with open(filename, \"r\", encoding='utf-8') as f:\n",
    "            words = f.read().lower().split()  ## lower is used to convert the words in lower case\n",
    "            word_count = Counter(words)  ## counter is used to count the words\n",
    "\n",
    "        if not words:\n",
    "            return \"File is empty\"\n",
    "        \n",
    "        return word_count.most_common(1)[0]  ## most_common is used to count the most common words in the file\n",
    "    \n",
    "    except FileNotFoundError:   \n",
    "        return \"File not found\"\n",
    "    \n",
    "\n",
    "print(count_most_frequent_words(\"sample.txt\"))"
   ]
  },
  {
   "cell_type": "markdown",
   "metadata": {},
   "source": [
    "#### 50.Merge two files line by line into a new file."
   ]
  },
  {
   "cell_type": "code",
   "execution_count": 48,
   "metadata": {},
   "outputs": [
    {
     "name": "stdout",
     "output_type": "stream",
     "text": [
      "Files merged successfully into output_file.txt\n"
     ]
    }
   ],
   "source": [
    "def merge_two_files(file1, file2, output_file):\n",
    "    try:\n",
    "        with open(file1, \"r\", encoding='utf-8') as f1, \\\n",
    "             open(file2, \"r\", encoding='utf-8') as f2, \\\n",
    "             open(output_file, \"w\", encoding='utf-8') as out:\n",
    "            for line1, line2 in zip(f1, f2):  ## zip is used to combine the two files\n",
    "                out.write(line1.strip() + \" \" + line2)  ## strip is used to remove the spaces in the file\n",
    "\n",
    "            return f\"Files merged successfully into {output_file}\"  ## f is used to format the string\n",
    "\n",
    "    except FileNotFoundError:\n",
    "        return \"File not found\"\n",
    "    \n",
    "\n",
    "print(merge_two_files(\"sample1.txt\", \"sample2.txt\", \"output_file.txt\"))"
   ]
  },
  {
   "cell_type": "markdown",
   "metadata": {},
   "source": [
    "#### 51. Find and replace a word in a text file."
   ]
  },
  {
   "cell_type": "code",
   "execution_count": 49,
   "metadata": {},
   "outputs": [
    {
     "name": "stdout",
     "output_type": "stream",
     "text": [
      "Python replaced with Java\n"
     ]
    }
   ],
   "source": [
    "def find_and_replace(filename):\n",
    "    try:\n",
    "        with open(filename,\"r\",encoding = \"utf-8\")as f: # utf-8 is used to read the file in english language\n",
    "            content = f.read()\n",
    "            new_content = content.replace(\"Python\",'Java')## replace is used to replace the words in the file\n",
    "\n",
    "        with open(filename, \"w\" ,encoding ='utf-8') as f:\n",
    "            f.write(new_content)\n",
    "            return \"Python replaced with Java\"\n",
    "\n",
    "    except FileNotFoundError:\n",
    "        return \"File not found\"\n",
    "\n",
    "\n",
    "print(find_and_replace(\"sample.txt\"))  "
   ]
  },
  {
   "cell_type": "markdown",
   "metadata": {},
   "source": [
    "#### 52. Remove blank lines from a file."
   ]
  },
  {
   "cell_type": "code",
   "execution_count": 50,
   "metadata": {},
   "outputs": [
    {
     "name": "stdout",
     "output_type": "stream",
     "text": [
      "Blank lines removed\n"
     ]
    }
   ],
   "source": [
    "def remove_blank_lines(filename):\n",
    "    try:\n",
    "        with open(filename,\"r\",encoding=\"utf-8\") as f:\n",
    "            lines = f.readlines()\n",
    "            new_lines = [line for line in lines if line.strip() != \"\"] ## strip is used to remove the blank lines\n",
    "        with open(filename,\"w\",encoding=\"utf-8\")as f:\n",
    "            f.writelines(new_lines)\n",
    "\n",
    "        return \"Blank lines removed\"\n",
    "    \n",
    "    except FileNotFoundError:\n",
    "        return \"File not found\"\n",
    "    \n",
    "print(remove_blank_lines(\"sample.txt\"))\n"
   ]
  },
  {
   "cell_type": "markdown",
   "metadata": {},
   "source": [
    "#### 53.Extract all email addresses from a file."
   ]
  },
  {
   "cell_type": "code",
   "execution_count": 51,
   "metadata": {},
   "outputs": [
    {
     "name": "stdout",
     "output_type": "stream",
     "text": [
      "No email found\n"
     ]
    }
   ],
   "source": [
    "import re\n",
    "\n",
    "def extract_email(filename):\n",
    "    try:\n",
    "        with open(filename,\"r\",encoding =\"utf-8\")as f:\n",
    "            content = f.read()\n",
    "            email = re.findall(r\"[a-zA-Z0-9_.+-]+@[a-zA-Z0-9-]+\\.[a-zA-Z0-9-.]+\",content) ## findall is used to find the email in the file\n",
    "            return email if email else \"No email found\"\n",
    "        \n",
    "    except FileNotFoundError:\n",
    "        return \"File not found\"\n",
    "    \n",
    "\n",
    "print(extract_email(\"sample.txt\"))\n",
    "        \n",
    "\n",
    "\n"
   ]
  },
  {
   "cell_type": "markdown",
   "metadata": {},
   "source": [
    "#### 54.Reverse the contents of a file line by line."
   ]
  },
  {
   "cell_type": "code",
   "execution_count": 52,
   "metadata": {},
   "outputs": [
    {
     "name": "stdout",
     "output_type": "stream",
     "text": [
      "File reversed successfully\n"
     ]
    }
   ],
   "source": [
    "def reverse_files(filename):\n",
    "    try:\n",
    "        with open(filename,\"r\",encoding = \"utf-8\")as f:\n",
    "            lines = f.readlines()\n",
    "            reversed_lines = lines[::-1] ## reverse is used to reverse the lines in the file\n",
    "        with open(filename,\"w\",encoding = 'utf-8') as f:\n",
    "            f.writelines(reversed_lines)\n",
    "\n",
    "        return \"File reversed successfully\"\n",
    "    \n",
    "\n",
    "    except FileNotFoundError:\n",
    "        return \"File not found\"\n",
    "    \n",
    "\n",
    "print(reverse_files(\"sample.txt\"))"
   ]
  }
 ],
 "metadata": {
  "kernelspec": {
   "display_name": "Python 3",
   "language": "python",
   "name": "python3"
  },
  "language_info": {
   "codemirror_mode": {
    "name": "ipython",
    "version": 3
   },
   "file_extension": ".py",
   "mimetype": "text/x-python",
   "name": "python",
   "nbconvert_exporter": "python",
   "pygments_lexer": "ipython3",
   "version": "3.9.19"
  }
 },
 "nbformat": 4,
 "nbformat_minor": 2
}
