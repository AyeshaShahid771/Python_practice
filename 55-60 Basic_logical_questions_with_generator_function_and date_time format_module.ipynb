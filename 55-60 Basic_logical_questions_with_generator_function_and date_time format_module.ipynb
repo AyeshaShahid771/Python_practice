{
 "cells": [
  {
   "cell_type": "markdown",
   "metadata": {},
   "source": [
    "### 55-60 Basic logical questions on  generator function and date_time module\n",
    "\n",
    "### Infinite Number Generator using `yield`\n",
    "\n",
    "The following generator function creates an **infinite sequence of numbers**, producing one number at a time using `yield`:\n",
    "\n",
    "```python\n",
    "def infinite_numbers():\n",
    "    n = 1\n",
    "    while True:\n",
    "        yield n\n",
    "        n += 1\n",
    "\n",
    "gen = infinite_numbers()\n",
    "print(next(gen))  # Output: 1\n",
    "print(next(gen))  # Output: 2\n",
    "print(next(gen))  # Output: 3 (keeps going infinitely)\n"
   ]
  },
  {
   "cell_type": "code",
   "execution_count": 18,
   "metadata": {},
   "outputs": [
    {
     "name": "stdout",
     "output_type": "stream",
     "text": [
      "<generator object square_numbers at 0x0000021A452BFB30>\n",
      "<generator object square_numbers at 0x0000021A452BFB30>\n",
      "<generator object square_numbers at 0x0000021A452BFB30>\n",
      "<generator object square_numbers at 0x0000021A452BFB30>\n",
      "<generator object square_numbers at 0x0000021A452BFB30>\n",
      "<generator object square_numbers at 0x0000021A452BFB30>\n",
      "<generator object square_numbers at 0x0000021A452BFB30>\n",
      "1\n",
      "4\n",
      "9\n",
      "16\n",
      "25\n",
      "36\n",
      "49\n"
     ]
    }
   ],
   "source": [
    "#### 55.Create a generator that yields square numbers up to a given limit.\n",
    "\n",
    "def square_numbers(limit):\n",
    "    n=1\n",
    "    while n**2 <= limit:\n",
    "        yield n**2\n",
    "        n +=1\n",
    "\n",
    "\n",
    "\n",
    "gen = square_numbers(50)\n",
    "for num in gen:\n",
    "    print(gen)\n",
    "\n",
    "for num in square_numbers(50):\n",
    "    print(num)\n",
    "      "
   ]
  },
  {
   "cell_type": "markdown",
   "metadata": {},
   "source": [
    "#### 56.Implement a generator to yield random numbers within a range."
   ]
  },
  {
   "cell_type": "code",
   "execution_count": 19,
   "metadata": {},
   "outputs": [
    {
     "name": "stdout",
     "output_type": "stream",
     "text": [
      "6\n",
      "10\n",
      "6\n",
      "6\n",
      "6\n",
      "5\n",
      "10\n",
      "6\n",
      "7\n"
     ]
    }
   ],
   "source": [
    "import random   #importing random module\n",
    "def square_numbers(lower,upper,count):\n",
    "    for _ in range(lower,upper): # _ is a throwaway variable\n",
    "        yield random.randint(lower,upper)\n",
    "\n",
    "for num in square_numbers(1,10,5):\n",
    "    print(num)        \n"
   ]
  },
  {
   "cell_type": "markdown",
   "metadata": {},
   "source": [
    "#### 57.Find the number of days between two dates."
   ]
  },
  {
   "cell_type": "code",
   "execution_count": 20,
   "metadata": {},
   "outputs": [
    {
     "name": "stdout",
     "output_type": "stream",
     "text": [
      "31\n"
     ]
    }
   ],
   "source": [
    "from datetime import datetime\n",
    "\n",
    "def days_between(date1,date2,date_format =\"%Y-%m-%d\"): #date_format = \"%Y-%m-%d\"\n",
    "\n",
    "    d1 = datetime.strptime(date1, date_format)#this strptime() method creates a datetime object from the given string of format \"%Y-%m-%d\"\n",
    "    d2 = datetime.strptime(date2 ,date_format)#this strptime() method creates a datetime object from the given string of format \"%Y-%m-%d\"\n",
    "    return abs((d1-d2).days) #this abs() method returns the absolute value of the given number\n",
    "\n",
    "\n",
    "date1= \"2023-01-01\"\n",
    "date2= \"2023-02-01\"\n",
    "print(days_between(date1,date2))\n",
    "\n",
    "\n"
   ]
  },
  {
   "cell_type": "markdown",
   "metadata": {},
   "source": [
    "#### 58.Implement a generator to yield the Fibonacci sequence."
   ]
  },
  {
   "cell_type": "code",
   "execution_count": 21,
   "metadata": {},
   "outputs": [
    {
     "name": "stdout",
     "output_type": "stream",
     "text": [
      "0\n",
      "1\n",
      "1\n"
     ]
    }
   ],
   "source": [
    "def fibo_generator(n):\n",
    "    a = 0\n",
    "    b = 1\n",
    "    while True:\n",
    "        yield a\n",
    "        temp = a\n",
    "        a = b\n",
    "        b = temp + b\n",
    "\n",
    "gen = fibo_generator(10)\n",
    "print(next(gen))\n",
    "print(next(gen))\n",
    "print(next(gen))"
   ]
  },
  {
   "cell_type": "markdown",
   "metadata": {},
   "source": [
    "#### 59.\tFind the day of the week for a given date."
   ]
  },
  {
   "cell_type": "code",
   "execution_count": 23,
   "metadata": {},
   "outputs": [
    {
     "name": "stdout",
     "output_type": "stream",
     "text": [
      "Sunday\n"
     ]
    }
   ],
   "source": [
    "from datetime import datetime\n",
    "def day_name(date_str,date_format = \"%Y-%m-%d\"):\n",
    "    date_obj = datetime.strptime(date_str,date_format) #strp stands for string parse time\n",
    "    return date_obj.strftime(\"%A\") #strf stands for string format time and %A is the format for day name\n",
    "\n",
    "date_str = \"2023-01-01\"\n",
    "print(day_name(date_str))\n",
    "\n"
   ]
  },
  {
   "cell_type": "markdown",
   "metadata": {},
   "source": [
    "#### 60.Convert a timestamp into a readable date format.\n",
    "\n",
    "```"
   ]
  },
  {
   "cell_type": "code",
   "execution_count": 17,
   "metadata": {},
   "outputs": [
    {
     "name": "stdout",
     "output_type": "stream",
     "text": [
      "2023-02-16 21:55:21\n"
     ]
    }
   ],
   "source": [
    "from datetime import datetime\n",
    "def timestamp_to_date(timestamp): # timestamp is the number of seconds since the epoch\n",
    "    return datetime.fromtimestamp(timestamp).strftime(\"%Y-%m-%d %H:%M:%S\") #fromtimestamp() method returns the local date and time corresponding to the POSIX timestamp\n",
    "\n",
    "timestamp = 1676566521\n",
    "print(timestamp_to_date(timestamp))"
   ]
  }
 ],
 "metadata": {
  "kernelspec": {
   "display_name": "Python 3",
   "language": "python",
   "name": "python3"
  },
  "language_info": {
   "codemirror_mode": {
    "name": "ipython",
    "version": 3
   },
   "file_extension": ".py",
   "mimetype": "text/x-python",
   "name": "python",
   "nbconvert_exporter": "python",
   "pygments_lexer": "ipython3",
   "version": "3.9.19"
  }
 },
 "nbformat": 4,
 "nbformat_minor": 2
}
